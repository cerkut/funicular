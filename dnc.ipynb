{
 "cells": [
  {
   "cell_type": "markdown",
   "metadata": {},
   "source": [
    "## Numerical examples for \"A guide to differentiable neural computers\""
   ]
  },
  {
   "cell_type": "markdown",
   "metadata": {},
   "source": [
    "### Example 1: write operation"
   ]
  },
  {
   "cell_type": "markdown",
   "metadata": {},
   "source": [
    "Full write example.\n",
    "\n",
    "$$\n",
    "\\newcommand{\\R}{\\mathbb{R}}\n",
    "\\newcommand{\\N}{\\mathbb{N}}\n",
    "\\newcommand{\\Z}{\\mathbb{Z}}\n",
    "\\newcommand{\\b}[1]{\\boldsymbol{#1}}\n",
    "\\newcommand{\\r}[1]{\\mathrm{#1}}\n",
    "\\newcommand{\\c}[1]{\\mathcal{#1}}\n",
    "$$\n",
    "\n",
    "$$\n",
    "M_t = \\b{A} \\times \\b{B}\n",
    "$$\n"
   ]
  },
  {
   "cell_type": "code",
   "execution_count": 11,
   "metadata": {
    "collapsed": false
   },
   "outputs": [
    {
     "name": "stdout",
     "output_type": "stream",
     "text": [
      "M=\n",
      " [[-0.5   0.01  3.1 ]\n",
      " [-1.5  -1.3  -1.1 ]\n",
      " [ 0.    0.    0.  ]\n",
      " [-0.1  -0.05  0.  ]]\n"
     ]
    }
   ],
   "source": [
    "import numpy as np\n",
    "# Memory at time t-1:\n",
    "M1= np.array([[-0.5,0.01,3.1],\n",
    "              [0.2,0.6,1.2],\n",
    "              [0,0,0],\n",
    "              [-0.1,-0.05,0]])\n",
    "# Write weighting:\n",
    "w= np.array([0,1,0,0]).reshape(4,1)\n",
    "# Write vector:\n",
    "v= np.array([-1.5,-1.3,-1.1]).reshape(3,1)\n",
    "# Erase vector:\n",
    "e= np.array([1,1,1]).reshape(3,1)\n",
    "# Matrix of ones:\n",
    "E= np.ones((4,3))\n",
    "\n",
    "# Operation:\n",
    "M= M1 * (E - w @ e.T) + w @ v.T\n",
    "print(\"M=\\n\",M)\n"
   ]
  },
  {
   "cell_type": "code",
   "execution_count": null,
   "metadata": {
    "collapsed": true
   },
   "outputs": [],
   "source": []
  }
 ],
 "metadata": {
  "kernelspec": {
   "display_name": "Python 3",
   "language": "python",
   "name": "python3"
  },
  "language_info": {
   "codemirror_mode": {
    "name": "ipython",
    "version": 3
   },
   "file_extension": ".py",
   "mimetype": "text/x-python",
   "name": "python",
   "nbconvert_exporter": "python",
   "pygments_lexer": "ipython3",
   "version": "3.5.2"
  }
 },
 "nbformat": 4,
 "nbformat_minor": 2
}
